{
 "cells": [
  {
   "cell_type": "code",
   "execution_count": 1,
   "metadata": {},
   "outputs": [],
   "source": [
    "import sys\n",
    "sys.path.append('/Users/joshuaauchincloss/Deps')\n",
    "import selenium.webdriver.firefox.webdriver as webdriver\n",
    "from selenium.webdriver.common.by import By\n",
    "driver = webdriver.WebDriver(executable_path='/Users/joshuaauchincloss/Deps/geckodriver')"
   ]
  },
  {
   "cell_type": "code",
   "execution_count": 2,
   "metadata": {},
   "outputs": [],
   "source": [
    "import json"
   ]
  },
  {
   "cell_type": "code",
   "execution_count": 3,
   "metadata": {},
   "outputs": [],
   "source": [
    "driver.get('http://localhost:3000/aboutme')"
   ]
  },
  {
   "cell_type": "code",
   "execution_count": 19,
   "metadata": {},
   "outputs": [],
   "source": [
    "_as = driver.find_elements(By.XPATH, '//*/p/a')"
   ]
  },
  {
   "cell_type": "code",
   "execution_count": 17,
   "metadata": {},
   "outputs": [],
   "source": [
    "imgs = driver.find_elements(By.XPATH, '//*/a/img')"
   ]
  },
  {
   "cell_type": "code",
   "execution_count": 21,
   "metadata": {},
   "outputs": [],
   "source": [
    "_as  = [a.get_attribute(\"href\") for a in _as]"
   ]
  },
  {
   "cell_type": "code",
   "execution_count": 23,
   "metadata": {},
   "outputs": [],
   "source": [
    "data = [{\n",
    "    'alt': img.get_attribute(\"alt\"), \n",
    "    'src': img.get_attribute(\"src\"),\n",
    "    'href': _as[n]\n",
    "    } for n, img in enumerate(imgs)]"
   ]
  },
  {
   "cell_type": "code",
   "execution_count": 24,
   "metadata": {},
   "outputs": [],
   "source": [
    "json.dump(\n",
    "data\n",
    ", \n",
    "open('img_sources.json', 'w')\n",
    ")\n"
   ]
  },
  {
   "cell_type": "code",
   "execution_count": null,
   "metadata": {},
   "outputs": [],
   "source": []
  }
 ],
 "metadata": {
  "kernelspec": {
   "display_name": "Python 3.8.5 ('base')",
   "language": "python",
   "name": "python3"
  },
  "language_info": {
   "codemirror_mode": {
    "name": "ipython",
    "version": 3
   },
   "file_extension": ".py",
   "mimetype": "text/x-python",
   "name": "python",
   "nbconvert_exporter": "python",
   "pygments_lexer": "ipython3",
   "version": "3.8.5"
  },
  "orig_nbformat": 4,
  "vscode": {
   "interpreter": {
    "hash": "7999ab282a7bc62c6fe83fb9638a1ca476bf8c2c07ffb0fb35327b9fec49196e"
   }
  }
 },
 "nbformat": 4,
 "nbformat_minor": 2
}
